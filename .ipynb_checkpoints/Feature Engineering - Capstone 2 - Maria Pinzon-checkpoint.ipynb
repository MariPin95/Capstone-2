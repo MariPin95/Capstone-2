{
 "cells": [
  {
   "cell_type": "code",
   "execution_count": 1,
   "id": "11f229bb",
   "metadata": {},
   "outputs": [],
   "source": [
    "import numpy as np \n",
    "import pandas as pd \n",
    "import matplotlib.pyplot as plt \n",
    "import seaborn as sns"
   ]
  },
  {
   "cell_type": "code",
   "execution_count": 2,
   "id": "c35830a7",
   "metadata": {},
   "outputs": [
    {
     "name": "stdout",
     "output_type": "stream",
     "text": [
      "    country                                     utility_name utility_code  \\\n",
      "0  Paraguay  ADMINISTRACION NACIONAL DE ELECTRICIDAD (ANDE).         ANDE   \n",
      "1  Paraguay  ADMINISTRACION NACIONAL DE ELECTRICIDAD (ANDE).         ANDE   \n",
      "2  Paraguay  ADMINISTRACION NACIONAL DE ELECTRICIDAD (ANDE).         ANDE   \n",
      "3  Paraguay  ADMINISTRACION NACIONAL DE ELECTRICIDAD (ANDE).         ANDE   \n",
      "4  Paraguay  ADMINISTRACION NACIONAL DE ELECTRICIDAD (ANDE).         ANDE   \n",
      "\n",
      "  utility_ID    year      connection_type  total_number_connections  \\\n",
      "0     209001  1995.0  Elec - Distribution                  710188.0   \n",
      "1     209001  1996.0  Elec - Distribution                  785280.0   \n",
      "2     209001  1997.0  Elec - Distribution                  850947.0   \n",
      "3     209001  1998.0  Elec - Distribution                  897494.0   \n",
      "4     209001  1999.0  Elec - Distribution                  856545.0   \n",
      "\n",
      "   residential_connections  electricity_sold_year_MWh  distribution_length_km  \\\n",
      "0                 579691.0                3605894.515                33415.54   \n",
      "1                 647040.0                3802143.296                39952.04   \n",
      "2                 707179.0                3973477.997                45892.74   \n",
      "3                 749033.0                4079504.871                48422.20   \n",
      "4                 719159.0                4815296.785                50637.75   \n",
      "\n",
      "   ...   TOTEX_local  energy_losses_technical&nontechnical_%  \\\n",
      "0  ...  1.090000e+11                                  0.1731   \n",
      "1  ...  1.050000e+11                                  0.1998   \n",
      "2  ...  1.300000e+11                                  0.2285   \n",
      "3  ...  2.740000e+11                                  0.2366   \n",
      "4  ...  1.560000e+11                                  0.2100   \n",
      "\n",
      "   avg_duration_interruptions_suscriber  \\\n",
      "0                                  8.34   \n",
      "1                                 18.85   \n",
      "2                                 12.65   \n",
      "3                                 17.07   \n",
      "4                                  7.13   \n",
      "\n",
      "   avg_frequency_interruptions_subscriber  \\\n",
      "0                                   17.78   \n",
      "1                                   17.29   \n",
      "2                                   18.15   \n",
      "3                                   21.94   \n",
      "4                                   13.32   \n",
      "\n",
      "   residential_coverage (#/100 households)  avg_residential_tarif_local  \\\n",
      "0                                    0.694                   95460.0000   \n",
      "1                                    0.747                  117960.0000   \n",
      "2                                    0.790                  135140.0000   \n",
      "3                                    0.816                  159890.0000   \n",
      "4                                    0.823                  161702.9087   \n",
      "\n",
      "   avg_industrial_tarif_local  privatization_year  \\\n",
      "0                 68920.00000                 0.0   \n",
      "1                 85230.00000                 0.0   \n",
      "2                 95020.00000                 0.0   \n",
      "3                110890.00000                 0.0   \n",
      "4                 98855.26838                 0.0   \n",
      "\n",
      "   residential_connections_employee  energy_sold_employee  \n",
      "0                        222.103831           1381.568780  \n",
      "1                        241.252796           1417.652236  \n",
      "2                        256.782498           1442.802468  \n",
      "3                        250.680388           1365.296142  \n",
      "4                        240.200067           1608.315559  \n",
      "\n",
      "[5 rows x 24 columns]\n",
      "(4073, 24)\n"
     ]
    }
   ],
   "source": [
    "df = pd.read_csv('Data/energy_data_EDA.csv', encoding = 'latin1')\n",
    "df = df.iloc[:,1:]\n",
    "print(df.head())\n",
    "print(df.shape)"
   ]
  },
  {
   "cell_type": "code",
   "execution_count": 3,
   "id": "8c0e1189",
   "metadata": {},
   "outputs": [
    {
     "data": {
      "text/plain": [
       "country                                     object\n",
       "utility_name                                object\n",
       "utility_code                                object\n",
       "utility_ID                                  object\n",
       "year                                       float64\n",
       "connection_type                             object\n",
       "total_number_connections                   float64\n",
       "residential_connections                    float64\n",
       "electricity_sold_year_MWh                  float64\n",
       "distribution_length_km                     float64\n",
       "num_employees                              float64\n",
       "avg_price_MWh_local                        float64\n",
       "OPEX_local                                 float64\n",
       "CAPEX_local                                float64\n",
       "TOTEX_local                                float64\n",
       "energy_losses_technical&nontechnical_%     float64\n",
       "avg_duration_interruptions_suscriber       float64\n",
       "avg_frequency_interruptions_subscriber     float64\n",
       "residential_coverage (#/100 households)    float64\n",
       "avg_residential_tarif_local                float64\n",
       "avg_industrial_tarif_local                 float64\n",
       "privatization_year                         float64\n",
       "residential_connections_employee           float64\n",
       "energy_sold_employee                       float64\n",
       "dtype: object"
      ]
     },
     "execution_count": 3,
     "metadata": {},
     "output_type": "execute_result"
    }
   ],
   "source": [
    "df.dtypes"
   ]
  },
  {
   "cell_type": "markdown",
   "id": "9858a07f",
   "metadata": {},
   "source": [
    "## Scaling numerical columns"
   ]
  },
  {
   "cell_type": "code",
   "execution_count": 4,
   "id": "ee21fd3a",
   "metadata": {},
   "outputs": [],
   "source": [
    "from sklearn.preprocessing import StandardScaler\n",
    "\n",
    "numerical = df.iloc[:, 6:24]\n",
    "scaler = StandardScaler()\n",
    "scaler.fit(numerical)\n",
    "df[numerical.columns] = scaler.transform(numerical)"
   ]
  },
  {
   "cell_type": "code",
   "execution_count": 5,
   "id": "409aad6e",
   "metadata": {},
   "outputs": [
    {
     "data": {
      "text/plain": [
       "country                                     object\n",
       "utility_name                                object\n",
       "utility_code                                object\n",
       "utility_ID                                  object\n",
       "year                                       float64\n",
       "connection_type                             object\n",
       "total_number_connections                   float64\n",
       "residential_connections                    float64\n",
       "electricity_sold_year_MWh                  float64\n",
       "distribution_length_km                     float64\n",
       "num_employees                              float64\n",
       "avg_price_MWh_local                        float64\n",
       "OPEX_local                                 float64\n",
       "CAPEX_local                                float64\n",
       "TOTEX_local                                float64\n",
       "energy_losses_technical&nontechnical_%     float64\n",
       "avg_duration_interruptions_suscriber       float64\n",
       "avg_frequency_interruptions_subscriber     float64\n",
       "residential_coverage (#/100 households)    float64\n",
       "avg_residential_tarif_local                float64\n",
       "avg_industrial_tarif_local                 float64\n",
       "privatization_year                         float64\n",
       "residential_connections_employee           float64\n",
       "energy_sold_employee                       float64\n",
       "dtype: object"
      ]
     },
     "execution_count": 5,
     "metadata": {},
     "output_type": "execute_result"
    }
   ],
   "source": [
    "df.dtypes"
   ]
  },
  {
   "cell_type": "markdown",
   "id": "c0b8f602",
   "metadata": {},
   "source": [
    "## Creating the dummy variables"
   ]
  },
  {
   "cell_type": "code",
   "execution_count": 6,
   "id": "981e6bf0",
   "metadata": {},
   "outputs": [
    {
     "name": "stdout",
     "output_type": "stream",
     "text": [
      "(4073, 569)\n"
     ]
    }
   ],
   "source": [
    "dummy_features = pd.get_dummies(data = df, columns = ['country','utility_name','utility_code','connection_type'], drop_first = True)\n",
    "print(dummy_features.shape)"
   ]
  },
  {
   "cell_type": "markdown",
   "id": "6c386146",
   "metadata": {},
   "source": [
    "## Split into Training and Test Sets"
   ]
  },
  {
   "cell_type": "code",
   "execution_count": 7,
   "id": "7d389a75",
   "metadata": {},
   "outputs": [],
   "source": [
    "from sklearn.model_selection import train_test_split\n",
    "\n",
    "X = dummy_features\n",
    "y = df[numerical.columns]\n",
    "X_train,X_test,y_train,y_test = train_test_split(X, y, test_size = 0.25, random_state = 25)"
   ]
  }
 ],
 "metadata": {
  "kernelspec": {
   "display_name": "Python 3",
   "language": "python",
   "name": "python3"
  },
  "language_info": {
   "codemirror_mode": {
    "name": "ipython",
    "version": 3
   },
   "file_extension": ".py",
   "mimetype": "text/x-python",
   "name": "python",
   "nbconvert_exporter": "python",
   "pygments_lexer": "ipython3",
   "version": "3.8.8"
  }
 },
 "nbformat": 4,
 "nbformat_minor": 5
}
