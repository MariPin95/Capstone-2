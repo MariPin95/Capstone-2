{
 "cells": [
  {
   "cell_type": "markdown",
   "id": "6635867b",
   "metadata": {},
   "source": [
    "# Energy Consumption in Latin America - Modeling"
   ]
  },
  {
   "cell_type": "markdown",
   "id": "cbcf1f90",
   "metadata": {},
   "source": [
    "## Notebook by: Maria Pinzon"
   ]
  },
  {
   "cell_type": "markdown",
   "id": "60fef2c8",
   "metadata": {},
   "source": [
    "## 1. The Problem"
   ]
  },
  {
   "cell_type": "markdown",
   "id": "e228f735",
   "metadata": {},
   "source": [
    "Energy consumption in Latin American countreis is something that be unevenly distributed among many regions, especially in under-priviledged areas. This project hopes to analyze the energy consumption in 28 countries through a range of years based on multiple factors.  "
   ]
  },
  {
   "cell_type": "code",
   "execution_count": 1,
   "id": "fe2fd331",
   "metadata": {},
   "outputs": [],
   "source": [
    "import numpy as np \n",
    "import pandas as pd \n",
    "import matplotlib.pyplot as plt \n",
    "import seaborn as sns\n",
    "import warnings\n",
    "\n",
    "warnings.filterwarnings(\"ignore\")"
   ]
  },
  {
   "cell_type": "code",
   "execution_count": 2,
   "id": "c5b82d3d",
   "metadata": {},
   "outputs": [
    {
     "data": {
      "text/html": [
       "<div>\n",
       "<style scoped>\n",
       "    .dataframe tbody tr th:only-of-type {\n",
       "        vertical-align: middle;\n",
       "    }\n",
       "\n",
       "    .dataframe tbody tr th {\n",
       "        vertical-align: top;\n",
       "    }\n",
       "\n",
       "    .dataframe thead th {\n",
       "        text-align: right;\n",
       "    }\n",
       "</style>\n",
       "<table border=\"1\" class=\"dataframe\">\n",
       "  <thead>\n",
       "    <tr style=\"text-align: right;\">\n",
       "      <th></th>\n",
       "      <th>country</th>\n",
       "      <th>utility_name</th>\n",
       "      <th>utility_code</th>\n",
       "      <th>utility_ID</th>\n",
       "      <th>year</th>\n",
       "      <th>connection_type</th>\n",
       "      <th>total_number_connections</th>\n",
       "      <th>residential_connections</th>\n",
       "      <th>electricity_sold_year_MWh</th>\n",
       "      <th>distribution_length_km</th>\n",
       "      <th>...</th>\n",
       "      <th>TOTEX_local</th>\n",
       "      <th>energy_losses_technical&amp;nontechnical_%</th>\n",
       "      <th>avg_duration_interruptions_suscriber</th>\n",
       "      <th>avg_frequency_interruptions_subscriber</th>\n",
       "      <th>residential_coverage (#/100 households)</th>\n",
       "      <th>avg_residential_tarif_local</th>\n",
       "      <th>avg_industrial_tarif_local</th>\n",
       "      <th>privatization_year</th>\n",
       "      <th>residential_connections_employee</th>\n",
       "      <th>energy_sold_employee</th>\n",
       "    </tr>\n",
       "  </thead>\n",
       "  <tbody>\n",
       "    <tr>\n",
       "      <th>0</th>\n",
       "      <td>Paraguay</td>\n",
       "      <td>ADMINISTRACION NACIONAL DE ELECTRICIDAD (ANDE).</td>\n",
       "      <td>ANDE</td>\n",
       "      <td>209001</td>\n",
       "      <td>1995.0</td>\n",
       "      <td>Elec - Distribution</td>\n",
       "      <td>710188.0</td>\n",
       "      <td>579691.0</td>\n",
       "      <td>3605894.515</td>\n",
       "      <td>33415.54</td>\n",
       "      <td>...</td>\n",
       "      <td>1.090000e+11</td>\n",
       "      <td>0.1731</td>\n",
       "      <td>8.34</td>\n",
       "      <td>17.78</td>\n",
       "      <td>0.694</td>\n",
       "      <td>95460.0000</td>\n",
       "      <td>68920.00000</td>\n",
       "      <td>0.0</td>\n",
       "      <td>222.103831</td>\n",
       "      <td>1381.568780</td>\n",
       "    </tr>\n",
       "    <tr>\n",
       "      <th>1</th>\n",
       "      <td>Paraguay</td>\n",
       "      <td>ADMINISTRACION NACIONAL DE ELECTRICIDAD (ANDE).</td>\n",
       "      <td>ANDE</td>\n",
       "      <td>209001</td>\n",
       "      <td>1996.0</td>\n",
       "      <td>Elec - Distribution</td>\n",
       "      <td>785280.0</td>\n",
       "      <td>647040.0</td>\n",
       "      <td>3802143.296</td>\n",
       "      <td>39952.04</td>\n",
       "      <td>...</td>\n",
       "      <td>1.050000e+11</td>\n",
       "      <td>0.1998</td>\n",
       "      <td>18.85</td>\n",
       "      <td>17.29</td>\n",
       "      <td>0.747</td>\n",
       "      <td>117960.0000</td>\n",
       "      <td>85230.00000</td>\n",
       "      <td>0.0</td>\n",
       "      <td>241.252796</td>\n",
       "      <td>1417.652236</td>\n",
       "    </tr>\n",
       "    <tr>\n",
       "      <th>2</th>\n",
       "      <td>Paraguay</td>\n",
       "      <td>ADMINISTRACION NACIONAL DE ELECTRICIDAD (ANDE).</td>\n",
       "      <td>ANDE</td>\n",
       "      <td>209001</td>\n",
       "      <td>1997.0</td>\n",
       "      <td>Elec - Distribution</td>\n",
       "      <td>850947.0</td>\n",
       "      <td>707179.0</td>\n",
       "      <td>3973477.997</td>\n",
       "      <td>45892.74</td>\n",
       "      <td>...</td>\n",
       "      <td>1.300000e+11</td>\n",
       "      <td>0.2285</td>\n",
       "      <td>12.65</td>\n",
       "      <td>18.15</td>\n",
       "      <td>0.790</td>\n",
       "      <td>135140.0000</td>\n",
       "      <td>95020.00000</td>\n",
       "      <td>0.0</td>\n",
       "      <td>256.782498</td>\n",
       "      <td>1442.802468</td>\n",
       "    </tr>\n",
       "    <tr>\n",
       "      <th>3</th>\n",
       "      <td>Paraguay</td>\n",
       "      <td>ADMINISTRACION NACIONAL DE ELECTRICIDAD (ANDE).</td>\n",
       "      <td>ANDE</td>\n",
       "      <td>209001</td>\n",
       "      <td>1998.0</td>\n",
       "      <td>Elec - Distribution</td>\n",
       "      <td>897494.0</td>\n",
       "      <td>749033.0</td>\n",
       "      <td>4079504.871</td>\n",
       "      <td>48422.20</td>\n",
       "      <td>...</td>\n",
       "      <td>2.740000e+11</td>\n",
       "      <td>0.2366</td>\n",
       "      <td>17.07</td>\n",
       "      <td>21.94</td>\n",
       "      <td>0.816</td>\n",
       "      <td>159890.0000</td>\n",
       "      <td>110890.00000</td>\n",
       "      <td>0.0</td>\n",
       "      <td>250.680388</td>\n",
       "      <td>1365.296142</td>\n",
       "    </tr>\n",
       "    <tr>\n",
       "      <th>4</th>\n",
       "      <td>Paraguay</td>\n",
       "      <td>ADMINISTRACION NACIONAL DE ELECTRICIDAD (ANDE).</td>\n",
       "      <td>ANDE</td>\n",
       "      <td>209001</td>\n",
       "      <td>1999.0</td>\n",
       "      <td>Elec - Distribution</td>\n",
       "      <td>856545.0</td>\n",
       "      <td>719159.0</td>\n",
       "      <td>4815296.785</td>\n",
       "      <td>50637.75</td>\n",
       "      <td>...</td>\n",
       "      <td>1.560000e+11</td>\n",
       "      <td>0.2100</td>\n",
       "      <td>7.13</td>\n",
       "      <td>13.32</td>\n",
       "      <td>0.823</td>\n",
       "      <td>161702.9087</td>\n",
       "      <td>98855.26838</td>\n",
       "      <td>0.0</td>\n",
       "      <td>240.200067</td>\n",
       "      <td>1608.315559</td>\n",
       "    </tr>\n",
       "  </tbody>\n",
       "</table>\n",
       "<p>5 rows × 24 columns</p>\n",
       "</div>"
      ],
      "text/plain": [
       "    country                                     utility_name utility_code  \\\n",
       "0  Paraguay  ADMINISTRACION NACIONAL DE ELECTRICIDAD (ANDE).         ANDE   \n",
       "1  Paraguay  ADMINISTRACION NACIONAL DE ELECTRICIDAD (ANDE).         ANDE   \n",
       "2  Paraguay  ADMINISTRACION NACIONAL DE ELECTRICIDAD (ANDE).         ANDE   \n",
       "3  Paraguay  ADMINISTRACION NACIONAL DE ELECTRICIDAD (ANDE).         ANDE   \n",
       "4  Paraguay  ADMINISTRACION NACIONAL DE ELECTRICIDAD (ANDE).         ANDE   \n",
       "\n",
       "  utility_ID    year      connection_type  total_number_connections  \\\n",
       "0     209001  1995.0  Elec - Distribution                  710188.0   \n",
       "1     209001  1996.0  Elec - Distribution                  785280.0   \n",
       "2     209001  1997.0  Elec - Distribution                  850947.0   \n",
       "3     209001  1998.0  Elec - Distribution                  897494.0   \n",
       "4     209001  1999.0  Elec - Distribution                  856545.0   \n",
       "\n",
       "   residential_connections  electricity_sold_year_MWh  distribution_length_km  \\\n",
       "0                 579691.0                3605894.515                33415.54   \n",
       "1                 647040.0                3802143.296                39952.04   \n",
       "2                 707179.0                3973477.997                45892.74   \n",
       "3                 749033.0                4079504.871                48422.20   \n",
       "4                 719159.0                4815296.785                50637.75   \n",
       "\n",
       "   ...   TOTEX_local  energy_losses_technical&nontechnical_%  \\\n",
       "0  ...  1.090000e+11                                  0.1731   \n",
       "1  ...  1.050000e+11                                  0.1998   \n",
       "2  ...  1.300000e+11                                  0.2285   \n",
       "3  ...  2.740000e+11                                  0.2366   \n",
       "4  ...  1.560000e+11                                  0.2100   \n",
       "\n",
       "   avg_duration_interruptions_suscriber  \\\n",
       "0                                  8.34   \n",
       "1                                 18.85   \n",
       "2                                 12.65   \n",
       "3                                 17.07   \n",
       "4                                  7.13   \n",
       "\n",
       "   avg_frequency_interruptions_subscriber  \\\n",
       "0                                   17.78   \n",
       "1                                   17.29   \n",
       "2                                   18.15   \n",
       "3                                   21.94   \n",
       "4                                   13.32   \n",
       "\n",
       "   residential_coverage (#/100 households)  avg_residential_tarif_local  \\\n",
       "0                                    0.694                   95460.0000   \n",
       "1                                    0.747                  117960.0000   \n",
       "2                                    0.790                  135140.0000   \n",
       "3                                    0.816                  159890.0000   \n",
       "4                                    0.823                  161702.9087   \n",
       "\n",
       "   avg_industrial_tarif_local  privatization_year  \\\n",
       "0                 68920.00000                 0.0   \n",
       "1                 85230.00000                 0.0   \n",
       "2                 95020.00000                 0.0   \n",
       "3                110890.00000                 0.0   \n",
       "4                 98855.26838                 0.0   \n",
       "\n",
       "   residential_connections_employee  energy_sold_employee  \n",
       "0                        222.103831           1381.568780  \n",
       "1                        241.252796           1417.652236  \n",
       "2                        256.782498           1442.802468  \n",
       "3                        250.680388           1365.296142  \n",
       "4                        240.200067           1608.315559  \n",
       "\n",
       "[5 rows x 24 columns]"
      ]
     },
     "execution_count": 2,
     "metadata": {},
     "output_type": "execute_result"
    }
   ],
   "source": [
    "df = pd.read_csv('Data/energy_data_EDA.csv', encoding = 'latin1')\n",
    "df = df.iloc[:,1:]\n",
    "df.head()"
   ]
  },
  {
   "cell_type": "code",
   "execution_count": 3,
   "id": "b308c560",
   "metadata": {},
   "outputs": [
    {
     "data": {
      "text/plain": [
       "country                                    0\n",
       "utility_name                               0\n",
       "utility_code                               0\n",
       "utility_ID                                 0\n",
       "year                                       0\n",
       "connection_type                            0\n",
       "total_number_connections                   0\n",
       "residential_connections                    0\n",
       "electricity_sold_year_MWh                  0\n",
       "distribution_length_km                     0\n",
       "num_employees                              0\n",
       "avg_price_MWh_local                        0\n",
       "OPEX_local                                 0\n",
       "CAPEX_local                                0\n",
       "TOTEX_local                                0\n",
       "energy_losses_technical&nontechnical_%     0\n",
       "avg_duration_interruptions_suscriber       0\n",
       "avg_frequency_interruptions_subscriber     0\n",
       "residential_coverage (#/100 households)    0\n",
       "avg_residential_tarif_local                0\n",
       "avg_industrial_tarif_local                 0\n",
       "privatization_year                         0\n",
       "residential_connections_employee           0\n",
       "energy_sold_employee                       0\n",
       "dtype: int64"
      ]
     },
     "execution_count": 3,
     "metadata": {},
     "output_type": "execute_result"
    }
   ],
   "source": [
    "df.isnull().sum()"
   ]
  },
  {
   "cell_type": "code",
   "execution_count": 4,
   "id": "537303f8",
   "metadata": {},
   "outputs": [
    {
     "data": {
      "text/plain": [
       "array([1995, 1996, 1997, 1998, 1999, 2000, 2001, 2002, 2003, 2004, 2005,\n",
       "       2006, 2007, 1992, 1993, 1994, 1990, 1991, 1987, 1988, 1989, 1985,\n",
       "       1986, 1973, 1974, 1975, 1976, 1977, 1978, 1979, 1980, 1981, 1982,\n",
       "       1983, 1984, 2008], dtype=int64)"
      ]
     },
     "execution_count": 4,
     "metadata": {},
     "output_type": "execute_result"
    }
   ],
   "source": [
    "df['year'] = df['year'].astype('int64')\n",
    "df = df[df['year'] != 0]\n",
    "df['year'].unique()"
   ]
  },
  {
   "cell_type": "code",
   "execution_count": 5,
   "id": "f0cc0c87",
   "metadata": {},
   "outputs": [
    {
     "data": {
      "text/html": [
       "<div>\n",
       "<style scoped>\n",
       "    .dataframe tbody tr th:only-of-type {\n",
       "        vertical-align: middle;\n",
       "    }\n",
       "\n",
       "    .dataframe tbody tr th {\n",
       "        vertical-align: top;\n",
       "    }\n",
       "\n",
       "    .dataframe thead th {\n",
       "        text-align: right;\n",
       "    }\n",
       "</style>\n",
       "<table border=\"1\" class=\"dataframe\">\n",
       "  <thead>\n",
       "    <tr style=\"text-align: right;\">\n",
       "      <th></th>\n",
       "      <th>country</th>\n",
       "      <th>utility_name</th>\n",
       "      <th>utility_code</th>\n",
       "      <th>utility_ID</th>\n",
       "      <th>year</th>\n",
       "      <th>connection_type</th>\n",
       "      <th>total_number_connections</th>\n",
       "      <th>residential_connections</th>\n",
       "      <th>electricity_sold_year_MWh</th>\n",
       "      <th>distribution_length_km</th>\n",
       "      <th>...</th>\n",
       "      <th>energy_losses_technical&amp;nontechnical_%</th>\n",
       "      <th>avg_duration_interruptions_suscriber</th>\n",
       "      <th>avg_frequency_interruptions_subscriber</th>\n",
       "      <th>residential_coverage (#/100 households)</th>\n",
       "      <th>avg_residential_tarif_local</th>\n",
       "      <th>avg_industrial_tarif_local</th>\n",
       "      <th>privatization_year</th>\n",
       "      <th>residential_connections_employee</th>\n",
       "      <th>energy_sold_employee</th>\n",
       "      <th>coverage (above 80%)</th>\n",
       "    </tr>\n",
       "  </thead>\n",
       "  <tbody>\n",
       "    <tr>\n",
       "      <th>0</th>\n",
       "      <td>Paraguay</td>\n",
       "      <td>ADMINISTRACION NACIONAL DE ELECTRICIDAD (ANDE).</td>\n",
       "      <td>ANDE</td>\n",
       "      <td>209001</td>\n",
       "      <td>1995</td>\n",
       "      <td>Elec - Distribution</td>\n",
       "      <td>710188.0</td>\n",
       "      <td>579691.0</td>\n",
       "      <td>3605894.515</td>\n",
       "      <td>33415.54</td>\n",
       "      <td>...</td>\n",
       "      <td>0.1731</td>\n",
       "      <td>8.34</td>\n",
       "      <td>17.78</td>\n",
       "      <td>0.694</td>\n",
       "      <td>95460.0000</td>\n",
       "      <td>68920.00000</td>\n",
       "      <td>0.0</td>\n",
       "      <td>222.103831</td>\n",
       "      <td>1381.568780</td>\n",
       "      <td>0</td>\n",
       "    </tr>\n",
       "    <tr>\n",
       "      <th>1</th>\n",
       "      <td>Paraguay</td>\n",
       "      <td>ADMINISTRACION NACIONAL DE ELECTRICIDAD (ANDE).</td>\n",
       "      <td>ANDE</td>\n",
       "      <td>209001</td>\n",
       "      <td>1996</td>\n",
       "      <td>Elec - Distribution</td>\n",
       "      <td>785280.0</td>\n",
       "      <td>647040.0</td>\n",
       "      <td>3802143.296</td>\n",
       "      <td>39952.04</td>\n",
       "      <td>...</td>\n",
       "      <td>0.1998</td>\n",
       "      <td>18.85</td>\n",
       "      <td>17.29</td>\n",
       "      <td>0.747</td>\n",
       "      <td>117960.0000</td>\n",
       "      <td>85230.00000</td>\n",
       "      <td>0.0</td>\n",
       "      <td>241.252796</td>\n",
       "      <td>1417.652236</td>\n",
       "      <td>0</td>\n",
       "    </tr>\n",
       "    <tr>\n",
       "      <th>2</th>\n",
       "      <td>Paraguay</td>\n",
       "      <td>ADMINISTRACION NACIONAL DE ELECTRICIDAD (ANDE).</td>\n",
       "      <td>ANDE</td>\n",
       "      <td>209001</td>\n",
       "      <td>1997</td>\n",
       "      <td>Elec - Distribution</td>\n",
       "      <td>850947.0</td>\n",
       "      <td>707179.0</td>\n",
       "      <td>3973477.997</td>\n",
       "      <td>45892.74</td>\n",
       "      <td>...</td>\n",
       "      <td>0.2285</td>\n",
       "      <td>12.65</td>\n",
       "      <td>18.15</td>\n",
       "      <td>0.790</td>\n",
       "      <td>135140.0000</td>\n",
       "      <td>95020.00000</td>\n",
       "      <td>0.0</td>\n",
       "      <td>256.782498</td>\n",
       "      <td>1442.802468</td>\n",
       "      <td>0</td>\n",
       "    </tr>\n",
       "    <tr>\n",
       "      <th>3</th>\n",
       "      <td>Paraguay</td>\n",
       "      <td>ADMINISTRACION NACIONAL DE ELECTRICIDAD (ANDE).</td>\n",
       "      <td>ANDE</td>\n",
       "      <td>209001</td>\n",
       "      <td>1998</td>\n",
       "      <td>Elec - Distribution</td>\n",
       "      <td>897494.0</td>\n",
       "      <td>749033.0</td>\n",
       "      <td>4079504.871</td>\n",
       "      <td>48422.20</td>\n",
       "      <td>...</td>\n",
       "      <td>0.2366</td>\n",
       "      <td>17.07</td>\n",
       "      <td>21.94</td>\n",
       "      <td>0.816</td>\n",
       "      <td>159890.0000</td>\n",
       "      <td>110890.00000</td>\n",
       "      <td>0.0</td>\n",
       "      <td>250.680388</td>\n",
       "      <td>1365.296142</td>\n",
       "      <td>1</td>\n",
       "    </tr>\n",
       "    <tr>\n",
       "      <th>4</th>\n",
       "      <td>Paraguay</td>\n",
       "      <td>ADMINISTRACION NACIONAL DE ELECTRICIDAD (ANDE).</td>\n",
       "      <td>ANDE</td>\n",
       "      <td>209001</td>\n",
       "      <td>1999</td>\n",
       "      <td>Elec - Distribution</td>\n",
       "      <td>856545.0</td>\n",
       "      <td>719159.0</td>\n",
       "      <td>4815296.785</td>\n",
       "      <td>50637.75</td>\n",
       "      <td>...</td>\n",
       "      <td>0.2100</td>\n",
       "      <td>7.13</td>\n",
       "      <td>13.32</td>\n",
       "      <td>0.823</td>\n",
       "      <td>161702.9087</td>\n",
       "      <td>98855.26838</td>\n",
       "      <td>0.0</td>\n",
       "      <td>240.200067</td>\n",
       "      <td>1608.315559</td>\n",
       "      <td>1</td>\n",
       "    </tr>\n",
       "  </tbody>\n",
       "</table>\n",
       "<p>5 rows × 25 columns</p>\n",
       "</div>"
      ],
      "text/plain": [
       "    country                                     utility_name utility_code  \\\n",
       "0  Paraguay  ADMINISTRACION NACIONAL DE ELECTRICIDAD (ANDE).         ANDE   \n",
       "1  Paraguay  ADMINISTRACION NACIONAL DE ELECTRICIDAD (ANDE).         ANDE   \n",
       "2  Paraguay  ADMINISTRACION NACIONAL DE ELECTRICIDAD (ANDE).         ANDE   \n",
       "3  Paraguay  ADMINISTRACION NACIONAL DE ELECTRICIDAD (ANDE).         ANDE   \n",
       "4  Paraguay  ADMINISTRACION NACIONAL DE ELECTRICIDAD (ANDE).         ANDE   \n",
       "\n",
       "  utility_ID  year      connection_type  total_number_connections  \\\n",
       "0     209001  1995  Elec - Distribution                  710188.0   \n",
       "1     209001  1996  Elec - Distribution                  785280.0   \n",
       "2     209001  1997  Elec - Distribution                  850947.0   \n",
       "3     209001  1998  Elec - Distribution                  897494.0   \n",
       "4     209001  1999  Elec - Distribution                  856545.0   \n",
       "\n",
       "   residential_connections  electricity_sold_year_MWh  distribution_length_km  \\\n",
       "0                 579691.0                3605894.515                33415.54   \n",
       "1                 647040.0                3802143.296                39952.04   \n",
       "2                 707179.0                3973477.997                45892.74   \n",
       "3                 749033.0                4079504.871                48422.20   \n",
       "4                 719159.0                4815296.785                50637.75   \n",
       "\n",
       "   ...  energy_losses_technical&nontechnical_%  \\\n",
       "0  ...                                  0.1731   \n",
       "1  ...                                  0.1998   \n",
       "2  ...                                  0.2285   \n",
       "3  ...                                  0.2366   \n",
       "4  ...                                  0.2100   \n",
       "\n",
       "   avg_duration_interruptions_suscriber  \\\n",
       "0                                  8.34   \n",
       "1                                 18.85   \n",
       "2                                 12.65   \n",
       "3                                 17.07   \n",
       "4                                  7.13   \n",
       "\n",
       "   avg_frequency_interruptions_subscriber  \\\n",
       "0                                   17.78   \n",
       "1                                   17.29   \n",
       "2                                   18.15   \n",
       "3                                   21.94   \n",
       "4                                   13.32   \n",
       "\n",
       "   residential_coverage (#/100 households)  avg_residential_tarif_local  \\\n",
       "0                                    0.694                   95460.0000   \n",
       "1                                    0.747                  117960.0000   \n",
       "2                                    0.790                  135140.0000   \n",
       "3                                    0.816                  159890.0000   \n",
       "4                                    0.823                  161702.9087   \n",
       "\n",
       "   avg_industrial_tarif_local  privatization_year  \\\n",
       "0                 68920.00000                 0.0   \n",
       "1                 85230.00000                 0.0   \n",
       "2                 95020.00000                 0.0   \n",
       "3                110890.00000                 0.0   \n",
       "4                 98855.26838                 0.0   \n",
       "\n",
       "   residential_connections_employee  energy_sold_employee  \\\n",
       "0                        222.103831           1381.568780   \n",
       "1                        241.252796           1417.652236   \n",
       "2                        256.782498           1442.802468   \n",
       "3                        250.680388           1365.296142   \n",
       "4                        240.200067           1608.315559   \n",
       "\n",
       "   coverage (above 80%)  \n",
       "0                     0  \n",
       "1                     0  \n",
       "2                     0  \n",
       "3                     1  \n",
       "4                     1  \n",
       "\n",
       "[5 rows x 25 columns]"
      ]
     },
     "execution_count": 5,
     "metadata": {},
     "output_type": "execute_result"
    }
   ],
   "source": [
    "df['coverage (above 80%)'] = np.where(df['residential_coverage (#/100 households)'] >= 0.8, True, False)\n",
    "df['coverage (above 80%)'] = df['coverage (above 80%)'].astype(int)\n",
    "df.head()"
   ]
  },
  {
   "cell_type": "code",
   "execution_count": 6,
   "id": "9b0f096a",
   "metadata": {},
   "outputs": [
    {
     "data": {
      "text/plain": [
       "0    3157\n",
       "1     915\n",
       "Name: coverage (above 80%), dtype: int64"
      ]
     },
     "execution_count": 6,
     "metadata": {},
     "output_type": "execute_result"
    }
   ],
   "source": [
    "df['coverage (above 80%)'].value_counts()"
   ]
  },
  {
   "cell_type": "code",
   "execution_count": 7,
   "id": "c60305c5",
   "metadata": {},
   "outputs": [
    {
     "data": {
      "text/html": [
       "<div>\n",
       "<style scoped>\n",
       "    .dataframe tbody tr th:only-of-type {\n",
       "        vertical-align: middle;\n",
       "    }\n",
       "\n",
       "    .dataframe tbody tr th {\n",
       "        vertical-align: top;\n",
       "    }\n",
       "\n",
       "    .dataframe thead th {\n",
       "        text-align: right;\n",
       "    }\n",
       "</style>\n",
       "<table border=\"1\" class=\"dataframe\">\n",
       "  <thead>\n",
       "    <tr style=\"text-align: right;\">\n",
       "      <th></th>\n",
       "      <th>Country Name</th>\n",
       "      <th>1960</th>\n",
       "      <th>1961</th>\n",
       "      <th>1962</th>\n",
       "      <th>1963</th>\n",
       "      <th>1964</th>\n",
       "      <th>1965</th>\n",
       "      <th>1966</th>\n",
       "      <th>1967</th>\n",
       "      <th>1968</th>\n",
       "      <th>...</th>\n",
       "      <th>2011</th>\n",
       "      <th>2012</th>\n",
       "      <th>2013</th>\n",
       "      <th>2014</th>\n",
       "      <th>2015</th>\n",
       "      <th>2016</th>\n",
       "      <th>2017</th>\n",
       "      <th>2018</th>\n",
       "      <th>2019</th>\n",
       "      <th>2020</th>\n",
       "    </tr>\n",
       "  </thead>\n",
       "  <tbody>\n",
       "    <tr>\n",
       "      <th>0</th>\n",
       "      <td>Aruba</td>\n",
       "      <td>54208.0</td>\n",
       "      <td>55434.0</td>\n",
       "      <td>56234.0</td>\n",
       "      <td>56699.0</td>\n",
       "      <td>57029.0</td>\n",
       "      <td>57357.0</td>\n",
       "      <td>57702.0</td>\n",
       "      <td>58044.0</td>\n",
       "      <td>58377.0</td>\n",
       "      <td>...</td>\n",
       "      <td>102050.0</td>\n",
       "      <td>102565.0</td>\n",
       "      <td>103165.0</td>\n",
       "      <td>103776.0</td>\n",
       "      <td>104339.0</td>\n",
       "      <td>104865.0</td>\n",
       "      <td>105361.0</td>\n",
       "      <td>105846.0</td>\n",
       "      <td>106310.0</td>\n",
       "      <td>106766.0</td>\n",
       "    </tr>\n",
       "    <tr>\n",
       "      <th>1</th>\n",
       "      <td>Africa Eastern and Southern</td>\n",
       "      <td>130836765.0</td>\n",
       "      <td>134159786.0</td>\n",
       "      <td>137614644.0</td>\n",
       "      <td>141202036.0</td>\n",
       "      <td>144920186.0</td>\n",
       "      <td>148769974.0</td>\n",
       "      <td>152752671.0</td>\n",
       "      <td>156876454.0</td>\n",
       "      <td>161156430.0</td>\n",
       "      <td>...</td>\n",
       "      <td>532760424.0</td>\n",
       "      <td>547482863.0</td>\n",
       "      <td>562601578.0</td>\n",
       "      <td>578075373.0</td>\n",
       "      <td>593871847.0</td>\n",
       "      <td>609978946.0</td>\n",
       "      <td>626392880.0</td>\n",
       "      <td>643090131.0</td>\n",
       "      <td>660046272.0</td>\n",
       "      <td>677243299.0</td>\n",
       "    </tr>\n",
       "    <tr>\n",
       "      <th>2</th>\n",
       "      <td>Afghanistan</td>\n",
       "      <td>8996967.0</td>\n",
       "      <td>9169406.0</td>\n",
       "      <td>9351442.0</td>\n",
       "      <td>9543200.0</td>\n",
       "      <td>9744772.0</td>\n",
       "      <td>9956318.0</td>\n",
       "      <td>10174840.0</td>\n",
       "      <td>10399936.0</td>\n",
       "      <td>10637064.0</td>\n",
       "      <td>...</td>\n",
       "      <td>30117411.0</td>\n",
       "      <td>31161378.0</td>\n",
       "      <td>32269592.0</td>\n",
       "      <td>33370804.0</td>\n",
       "      <td>34413603.0</td>\n",
       "      <td>35383028.0</td>\n",
       "      <td>36296111.0</td>\n",
       "      <td>37171922.0</td>\n",
       "      <td>38041757.0</td>\n",
       "      <td>38928341.0</td>\n",
       "    </tr>\n",
       "    <tr>\n",
       "      <th>3</th>\n",
       "      <td>Africa Western and Central</td>\n",
       "      <td>96396419.0</td>\n",
       "      <td>98407221.0</td>\n",
       "      <td>100506960.0</td>\n",
       "      <td>102691339.0</td>\n",
       "      <td>104953470.0</td>\n",
       "      <td>107289875.0</td>\n",
       "      <td>109701811.0</td>\n",
       "      <td>112195950.0</td>\n",
       "      <td>114781116.0</td>\n",
       "      <td>...</td>\n",
       "      <td>360285439.0</td>\n",
       "      <td>370243017.0</td>\n",
       "      <td>380437896.0</td>\n",
       "      <td>390882979.0</td>\n",
       "      <td>401586651.0</td>\n",
       "      <td>412551299.0</td>\n",
       "      <td>423769930.0</td>\n",
       "      <td>435229381.0</td>\n",
       "      <td>446911598.0</td>\n",
       "      <td>458803476.0</td>\n",
       "    </tr>\n",
       "    <tr>\n",
       "      <th>4</th>\n",
       "      <td>Angola</td>\n",
       "      <td>5454938.0</td>\n",
       "      <td>5531451.0</td>\n",
       "      <td>5608499.0</td>\n",
       "      <td>5679409.0</td>\n",
       "      <td>5734995.0</td>\n",
       "      <td>5770573.0</td>\n",
       "      <td>5781305.0</td>\n",
       "      <td>5774440.0</td>\n",
       "      <td>5771973.0</td>\n",
       "      <td>...</td>\n",
       "      <td>24220660.0</td>\n",
       "      <td>25107925.0</td>\n",
       "      <td>26015786.0</td>\n",
       "      <td>26941773.0</td>\n",
       "      <td>27884380.0</td>\n",
       "      <td>28842482.0</td>\n",
       "      <td>29816769.0</td>\n",
       "      <td>30809787.0</td>\n",
       "      <td>31825299.0</td>\n",
       "      <td>32866268.0</td>\n",
       "    </tr>\n",
       "  </tbody>\n",
       "</table>\n",
       "<p>5 rows × 62 columns</p>\n",
       "</div>"
      ],
      "text/plain": [
       "                  Country Name         1960         1961         1962  \\\n",
       "0                        Aruba      54208.0      55434.0      56234.0   \n",
       "1  Africa Eastern and Southern  130836765.0  134159786.0  137614644.0   \n",
       "2                  Afghanistan    8996967.0    9169406.0    9351442.0   \n",
       "3   Africa Western and Central   96396419.0   98407221.0  100506960.0   \n",
       "4                       Angola    5454938.0    5531451.0    5608499.0   \n",
       "\n",
       "          1963         1964         1965         1966         1967  \\\n",
       "0      56699.0      57029.0      57357.0      57702.0      58044.0   \n",
       "1  141202036.0  144920186.0  148769974.0  152752671.0  156876454.0   \n",
       "2    9543200.0    9744772.0    9956318.0   10174840.0   10399936.0   \n",
       "3  102691339.0  104953470.0  107289875.0  109701811.0  112195950.0   \n",
       "4    5679409.0    5734995.0    5770573.0    5781305.0    5774440.0   \n",
       "\n",
       "          1968  ...         2011         2012         2013         2014  \\\n",
       "0      58377.0  ...     102050.0     102565.0     103165.0     103776.0   \n",
       "1  161156430.0  ...  532760424.0  547482863.0  562601578.0  578075373.0   \n",
       "2   10637064.0  ...   30117411.0   31161378.0   32269592.0   33370804.0   \n",
       "3  114781116.0  ...  360285439.0  370243017.0  380437896.0  390882979.0   \n",
       "4    5771973.0  ...   24220660.0   25107925.0   26015786.0   26941773.0   \n",
       "\n",
       "          2015         2016         2017         2018         2019  \\\n",
       "0     104339.0     104865.0     105361.0     105846.0     106310.0   \n",
       "1  593871847.0  609978946.0  626392880.0  643090131.0  660046272.0   \n",
       "2   34413603.0   35383028.0   36296111.0   37171922.0   38041757.0   \n",
       "3  401586651.0  412551299.0  423769930.0  435229381.0  446911598.0   \n",
       "4   27884380.0   28842482.0   29816769.0   30809787.0   31825299.0   \n",
       "\n",
       "          2020  \n",
       "0     106766.0  \n",
       "1  677243299.0  \n",
       "2   38928341.0  \n",
       "3  458803476.0  \n",
       "4   32866268.0  \n",
       "\n",
       "[5 rows x 62 columns]"
      ]
     },
     "execution_count": 7,
     "metadata": {},
     "output_type": "execute_result"
    }
   ],
   "source": [
    "populations = pd.read_csv('countries.csv')\n",
    "populations.head()"
   ]
  },
  {
   "cell_type": "code",
   "execution_count": 8,
   "id": "8f551457",
   "metadata": {},
   "outputs": [],
   "source": [
    "populations = populations.melt(id_vars=['Country Name'], var_name = ['Year'], value_name = 'Population')"
   ]
  },
  {
   "cell_type": "code",
   "execution_count": 9,
   "id": "35f76bc6",
   "metadata": {},
   "outputs": [
    {
     "data": {
      "text/html": [
       "<div>\n",
       "<style scoped>\n",
       "    .dataframe tbody tr th:only-of-type {\n",
       "        vertical-align: middle;\n",
       "    }\n",
       "\n",
       "    .dataframe tbody tr th {\n",
       "        vertical-align: top;\n",
       "    }\n",
       "\n",
       "    .dataframe thead th {\n",
       "        text-align: right;\n",
       "    }\n",
       "</style>\n",
       "<table border=\"1\" class=\"dataframe\">\n",
       "  <thead>\n",
       "    <tr style=\"text-align: right;\">\n",
       "      <th></th>\n",
       "      <th>Country Name</th>\n",
       "      <th>Year</th>\n",
       "      <th>Population</th>\n",
       "    </tr>\n",
       "  </thead>\n",
       "  <tbody>\n",
       "    <tr>\n",
       "      <th>0</th>\n",
       "      <td>Aruba</td>\n",
       "      <td>1960</td>\n",
       "      <td>54208.0</td>\n",
       "    </tr>\n",
       "    <tr>\n",
       "      <th>1</th>\n",
       "      <td>Africa Eastern and Southern</td>\n",
       "      <td>1960</td>\n",
       "      <td>130836765.0</td>\n",
       "    </tr>\n",
       "    <tr>\n",
       "      <th>2</th>\n",
       "      <td>Afghanistan</td>\n",
       "      <td>1960</td>\n",
       "      <td>8996967.0</td>\n",
       "    </tr>\n",
       "    <tr>\n",
       "      <th>3</th>\n",
       "      <td>Africa Western and Central</td>\n",
       "      <td>1960</td>\n",
       "      <td>96396419.0</td>\n",
       "    </tr>\n",
       "    <tr>\n",
       "      <th>4</th>\n",
       "      <td>Angola</td>\n",
       "      <td>1960</td>\n",
       "      <td>5454938.0</td>\n",
       "    </tr>\n",
       "  </tbody>\n",
       "</table>\n",
       "</div>"
      ],
      "text/plain": [
       "                  Country Name  Year   Population\n",
       "0                        Aruba  1960      54208.0\n",
       "1  Africa Eastern and Southern  1960  130836765.0\n",
       "2                  Afghanistan  1960    8996967.0\n",
       "3   Africa Western and Central  1960   96396419.0\n",
       "4                       Angola  1960    5454938.0"
      ]
     },
     "execution_count": 9,
     "metadata": {},
     "output_type": "execute_result"
    }
   ],
   "source": [
    "populations.head()"
   ]
  },
  {
   "cell_type": "code",
   "execution_count": 10,
   "id": "914711ec",
   "metadata": {},
   "outputs": [
    {
     "data": {
      "text/html": [
       "<div>\n",
       "<style scoped>\n",
       "    .dataframe tbody tr th:only-of-type {\n",
       "        vertical-align: middle;\n",
       "    }\n",
       "\n",
       "    .dataframe tbody tr th {\n",
       "        vertical-align: top;\n",
       "    }\n",
       "\n",
       "    .dataframe thead th {\n",
       "        text-align: right;\n",
       "    }\n",
       "</style>\n",
       "<table border=\"1\" class=\"dataframe\">\n",
       "  <thead>\n",
       "    <tr style=\"text-align: right;\">\n",
       "      <th></th>\n",
       "      <th>country</th>\n",
       "      <th>year</th>\n",
       "      <th>population</th>\n",
       "    </tr>\n",
       "  </thead>\n",
       "  <tbody>\n",
       "    <tr>\n",
       "      <th>0</th>\n",
       "      <td>Aruba</td>\n",
       "      <td>1960</td>\n",
       "      <td>54208.0</td>\n",
       "    </tr>\n",
       "    <tr>\n",
       "      <th>1</th>\n",
       "      <td>Africa Eastern and Southern</td>\n",
       "      <td>1960</td>\n",
       "      <td>130836765.0</td>\n",
       "    </tr>\n",
       "    <tr>\n",
       "      <th>2</th>\n",
       "      <td>Afghanistan</td>\n",
       "      <td>1960</td>\n",
       "      <td>8996967.0</td>\n",
       "    </tr>\n",
       "    <tr>\n",
       "      <th>3</th>\n",
       "      <td>Africa Western and Central</td>\n",
       "      <td>1960</td>\n",
       "      <td>96396419.0</td>\n",
       "    </tr>\n",
       "    <tr>\n",
       "      <th>4</th>\n",
       "      <td>Angola</td>\n",
       "      <td>1960</td>\n",
       "      <td>5454938.0</td>\n",
       "    </tr>\n",
       "  </tbody>\n",
       "</table>\n",
       "</div>"
      ],
      "text/plain": [
       "                       country  year   population\n",
       "0                        Aruba  1960      54208.0\n",
       "1  Africa Eastern and Southern  1960  130836765.0\n",
       "2                  Afghanistan  1960    8996967.0\n",
       "3   Africa Western and Central  1960   96396419.0\n",
       "4                       Angola  1960    5454938.0"
      ]
     },
     "execution_count": 10,
     "metadata": {},
     "output_type": "execute_result"
    }
   ],
   "source": [
    "populations.rename(columns = {'Country Name':'country', 'Year':'year', 'Population':'population'}, inplace=True)\n",
    "populations.head()"
   ]
  },
  {
   "cell_type": "code",
   "execution_count": 11,
   "id": "53591959",
   "metadata": {},
   "outputs": [],
   "source": [
    "populations['year'] = populations['year'].astype('int64')"
   ]
  },
  {
   "cell_type": "code",
   "execution_count": 12,
   "id": "0950cde8",
   "metadata": {},
   "outputs": [
    {
     "data": {
      "text/plain": [
       "array([1960, 1961, 1962, 1963, 1964, 1965, 1966, 1967, 1968, 1969, 1970,\n",
       "       1971, 1972, 1973, 1974, 1975, 1976, 1977, 1978, 1979, 1980, 1981,\n",
       "       1982, 1983, 1984, 1985, 1986, 1987, 1988, 1989, 1990, 1991, 1992,\n",
       "       1993, 1994, 1995, 1996, 1997, 1998, 1999, 2000, 2001, 2002, 2003,\n",
       "       2004, 2005, 2006, 2007, 2008, 2009, 2010, 2011, 2012, 2013, 2014,\n",
       "       2015, 2016, 2017, 2018, 2019, 2020], dtype=int64)"
      ]
     },
     "execution_count": 12,
     "metadata": {},
     "output_type": "execute_result"
    }
   ],
   "source": [
    "populations['year'].unique()"
   ]
  },
  {
   "cell_type": "code",
   "execution_count": 13,
   "id": "814982d2",
   "metadata": {},
   "outputs": [
    {
     "data": {
      "text/plain": [
       "country        object\n",
       "year            int64\n",
       "population    float64\n",
       "dtype: object"
      ]
     },
     "execution_count": 13,
     "metadata": {},
     "output_type": "execute_result"
    }
   ],
   "source": [
    "populations.dtypes"
   ]
  },
  {
   "cell_type": "code",
   "execution_count": 14,
   "id": "ae5c15cc",
   "metadata": {},
   "outputs": [
    {
     "data": {
      "text/plain": [
       "country         0\n",
       "year            0\n",
       "population    103\n",
       "dtype: int64"
      ]
     },
     "execution_count": 14,
     "metadata": {},
     "output_type": "execute_result"
    }
   ],
   "source": [
    "populations.isna().sum()"
   ]
  },
  {
   "cell_type": "code",
   "execution_count": 15,
   "id": "f1eb3d91",
   "metadata": {},
   "outputs": [],
   "source": [
    "populations['population'] = populations.groupby('country')['population'].apply(lambda x:x.fillna(x.mean()))"
   ]
  },
  {
   "cell_type": "code",
   "execution_count": 16,
   "id": "372b3921",
   "metadata": {},
   "outputs": [
    {
     "data": {
      "text/plain": [
       "country        0\n",
       "year           0\n",
       "population    61\n",
       "dtype: int64"
      ]
     },
     "execution_count": 16,
     "metadata": {},
     "output_type": "execute_result"
    }
   ],
   "source": [
    "populations.isna().sum()"
   ]
  },
  {
   "cell_type": "code",
   "execution_count": 17,
   "id": "d7ac4422",
   "metadata": {},
   "outputs": [
    {
     "data": {
      "text/plain": [
       "country       0\n",
       "year          0\n",
       "population    0\n",
       "dtype: int64"
      ]
     },
     "execution_count": 17,
     "metadata": {},
     "output_type": "execute_result"
    }
   ],
   "source": [
    "populations = populations.fillna('Unknown')\n",
    "populations.isna().sum()"
   ]
  },
  {
   "cell_type": "code",
   "execution_count": 18,
   "id": "d68833a4",
   "metadata": {},
   "outputs": [],
   "source": [
    "df_main = df.merge(populations, on = ['country', 'year'])"
   ]
  },
  {
   "cell_type": "code",
   "execution_count": 19,
   "id": "74e974f2",
   "metadata": {},
   "outputs": [
    {
     "data": {
      "text/plain": [
       "array([1995, 1996, 1997, 1998, 1999, 2000, 2001, 2002, 2003, 2004, 2005,\n",
       "       2006, 2007, 1992, 1993, 1994, 1990, 1991, 1987, 1988, 1989, 1985,\n",
       "       1986, 1973, 1974, 1975, 1976, 1977, 1978, 1979, 1980, 1981, 1982,\n",
       "       1983, 1984, 2008], dtype=int64)"
      ]
     },
     "execution_count": 19,
     "metadata": {},
     "output_type": "execute_result"
    }
   ],
   "source": [
    "df_main['year'].unique()"
   ]
  },
  {
   "cell_type": "code",
   "execution_count": 20,
   "id": "11df0acc",
   "metadata": {},
   "outputs": [
    {
     "data": {
      "text/plain": [
       "country                                     object\n",
       "utility_name                                object\n",
       "utility_code                                object\n",
       "utility_ID                                  object\n",
       "year                                         int64\n",
       "connection_type                             object\n",
       "total_number_connections                   float64\n",
       "residential_connections                    float64\n",
       "electricity_sold_year_MWh                  float64\n",
       "distribution_length_km                     float64\n",
       "num_employees                              float64\n",
       "avg_price_MWh_local                        float64\n",
       "OPEX_local                                 float64\n",
       "CAPEX_local                                float64\n",
       "TOTEX_local                                float64\n",
       "energy_losses_technical&nontechnical_%     float64\n",
       "avg_duration_interruptions_suscriber       float64\n",
       "avg_frequency_interruptions_subscriber     float64\n",
       "residential_coverage (#/100 households)    float64\n",
       "avg_residential_tarif_local                float64\n",
       "avg_industrial_tarif_local                 float64\n",
       "privatization_year                         float64\n",
       "residential_connections_employee           float64\n",
       "energy_sold_employee                       float64\n",
       "coverage (above 80%)                         int32\n",
       "population                                  object\n",
       "dtype: object"
      ]
     },
     "execution_count": 20,
     "metadata": {},
     "output_type": "execute_result"
    }
   ],
   "source": [
    "df_main.head()\n",
    "df_main.dtypes"
   ]
  },
  {
   "cell_type": "code",
   "execution_count": 21,
   "id": "8c0a574a",
   "metadata": {},
   "outputs": [
    {
     "data": {
      "text/plain": [
       "country                                    0\n",
       "utility_name                               0\n",
       "utility_code                               0\n",
       "utility_ID                                 0\n",
       "year                                       0\n",
       "connection_type                            0\n",
       "total_number_connections                   0\n",
       "residential_connections                    0\n",
       "electricity_sold_year_MWh                  0\n",
       "distribution_length_km                     0\n",
       "num_employees                              0\n",
       "avg_price_MWh_local                        0\n",
       "OPEX_local                                 0\n",
       "CAPEX_local                                0\n",
       "TOTEX_local                                0\n",
       "energy_losses_technical&nontechnical_%     0\n",
       "avg_duration_interruptions_suscriber       0\n",
       "avg_frequency_interruptions_subscriber     0\n",
       "residential_coverage (#/100 households)    0\n",
       "avg_residential_tarif_local                0\n",
       "avg_industrial_tarif_local                 0\n",
       "privatization_year                         0\n",
       "residential_connections_employee           0\n",
       "energy_sold_employee                       0\n",
       "coverage (above 80%)                       0\n",
       "population                                 0\n",
       "dtype: int64"
      ]
     },
     "execution_count": 21,
     "metadata": {},
     "output_type": "execute_result"
    }
   ],
   "source": [
    "df_main.isna().sum()"
   ]
  },
  {
   "cell_type": "code",
   "execution_count": 22,
   "id": "94aadfe2",
   "metadata": {},
   "outputs": [
    {
     "data": {
      "text/html": [
       "<div>\n",
       "<style scoped>\n",
       "    .dataframe tbody tr th:only-of-type {\n",
       "        vertical-align: middle;\n",
       "    }\n",
       "\n",
       "    .dataframe tbody tr th {\n",
       "        vertical-align: top;\n",
       "    }\n",
       "\n",
       "    .dataframe thead th {\n",
       "        text-align: right;\n",
       "    }\n",
       "</style>\n",
       "<table border=\"1\" class=\"dataframe\">\n",
       "  <thead>\n",
       "    <tr style=\"text-align: right;\">\n",
       "      <th></th>\n",
       "      <th>country</th>\n",
       "      <th>utility_name</th>\n",
       "      <th>utility_code</th>\n",
       "      <th>utility_ID</th>\n",
       "      <th>year</th>\n",
       "      <th>connection_type</th>\n",
       "      <th>total_number_connections</th>\n",
       "      <th>residential_connections</th>\n",
       "      <th>electricity_sold_year_MWh</th>\n",
       "      <th>distribution_length_km</th>\n",
       "      <th>...</th>\n",
       "      <th>avg_duration_interruptions_suscriber</th>\n",
       "      <th>avg_frequency_interruptions_subscriber</th>\n",
       "      <th>residential_coverage (#/100 households)</th>\n",
       "      <th>avg_residential_tarif_local</th>\n",
       "      <th>avg_industrial_tarif_local</th>\n",
       "      <th>privatization_year</th>\n",
       "      <th>residential_connections_employee</th>\n",
       "      <th>energy_sold_employee</th>\n",
       "      <th>coverage (above 80%)</th>\n",
       "      <th>population</th>\n",
       "    </tr>\n",
       "  </thead>\n",
       "  <tbody>\n",
       "    <tr>\n",
       "      <th>0</th>\n",
       "      <td>Paraguay</td>\n",
       "      <td>ADMINISTRACION NACIONAL DE ELECTRICIDAD (ANDE).</td>\n",
       "      <td>ANDE</td>\n",
       "      <td>209001</td>\n",
       "      <td>1995</td>\n",
       "      <td>Elec - Distribution</td>\n",
       "      <td>710188.0</td>\n",
       "      <td>579691.0</td>\n",
       "      <td>3.605895e+06</td>\n",
       "      <td>33415.54</td>\n",
       "      <td>...</td>\n",
       "      <td>8.34</td>\n",
       "      <td>17.78</td>\n",
       "      <td>0.694</td>\n",
       "      <td>95460.0</td>\n",
       "      <td>68920.0</td>\n",
       "      <td>0.0</td>\n",
       "      <td>222.103831</td>\n",
       "      <td>1381.568780</td>\n",
       "      <td>0</td>\n",
       "      <td>4776838.0</td>\n",
       "    </tr>\n",
       "    <tr>\n",
       "      <th>1</th>\n",
       "      <td>Paraguay</td>\n",
       "      <td>COMPAÃÂIA LUZ Y FUERZA S.A. (CLYFSA)</td>\n",
       "      <td>CLYFSA</td>\n",
       "      <td>209002</td>\n",
       "      <td>1995</td>\n",
       "      <td>Elec - Distribution</td>\n",
       "      <td>0.0</td>\n",
       "      <td>0.0</td>\n",
       "      <td>3.712800e+04</td>\n",
       "      <td>170.00</td>\n",
       "      <td>...</td>\n",
       "      <td>0.00</td>\n",
       "      <td>0.00</td>\n",
       "      <td>0.000</td>\n",
       "      <td>358250.0</td>\n",
       "      <td>221938.0</td>\n",
       "      <td>1.0</td>\n",
       "      <td>216.883974</td>\n",
       "      <td>939.291346</td>\n",
       "      <td>0</td>\n",
       "      <td>4776838.0</td>\n",
       "    </tr>\n",
       "    <tr>\n",
       "      <th>2</th>\n",
       "      <td>Paraguay</td>\n",
       "      <td>ADMINISTRACION NACIONAL DE ELECTRICIDAD (ANDE).</td>\n",
       "      <td>ANDE</td>\n",
       "      <td>209001</td>\n",
       "      <td>1996</td>\n",
       "      <td>Elec - Distribution</td>\n",
       "      <td>785280.0</td>\n",
       "      <td>647040.0</td>\n",
       "      <td>3.802143e+06</td>\n",
       "      <td>39952.04</td>\n",
       "      <td>...</td>\n",
       "      <td>18.85</td>\n",
       "      <td>17.29</td>\n",
       "      <td>0.747</td>\n",
       "      <td>117960.0</td>\n",
       "      <td>85230.0</td>\n",
       "      <td>0.0</td>\n",
       "      <td>241.252796</td>\n",
       "      <td>1417.652236</td>\n",
       "      <td>0</td>\n",
       "      <td>4887638.0</td>\n",
       "    </tr>\n",
       "    <tr>\n",
       "      <th>3</th>\n",
       "      <td>Paraguay</td>\n",
       "      <td>COMPAÃÂIA LUZ Y FUERZA S.A. (CLYFSA)</td>\n",
       "      <td>CLYFSA</td>\n",
       "      <td>209002</td>\n",
       "      <td>1996</td>\n",
       "      <td>Elec - Distribution</td>\n",
       "      <td>0.0</td>\n",
       "      <td>0.0</td>\n",
       "      <td>3.712800e+04</td>\n",
       "      <td>170.00</td>\n",
       "      <td>...</td>\n",
       "      <td>0.00</td>\n",
       "      <td>0.00</td>\n",
       "      <td>0.000</td>\n",
       "      <td>358250.0</td>\n",
       "      <td>221938.0</td>\n",
       "      <td>1.0</td>\n",
       "      <td>216.883974</td>\n",
       "      <td>939.291346</td>\n",
       "      <td>0</td>\n",
       "      <td>4887638.0</td>\n",
       "    </tr>\n",
       "    <tr>\n",
       "      <th>4</th>\n",
       "      <td>Paraguay</td>\n",
       "      <td>ADMINISTRACION NACIONAL DE ELECTRICIDAD (ANDE).</td>\n",
       "      <td>ANDE</td>\n",
       "      <td>209001</td>\n",
       "      <td>1997</td>\n",
       "      <td>Elec - Distribution</td>\n",
       "      <td>850947.0</td>\n",
       "      <td>707179.0</td>\n",
       "      <td>3.973478e+06</td>\n",
       "      <td>45892.74</td>\n",
       "      <td>...</td>\n",
       "      <td>12.65</td>\n",
       "      <td>18.15</td>\n",
       "      <td>0.790</td>\n",
       "      <td>135140.0</td>\n",
       "      <td>95020.0</td>\n",
       "      <td>0.0</td>\n",
       "      <td>256.782498</td>\n",
       "      <td>1442.802468</td>\n",
       "      <td>0</td>\n",
       "      <td>4998096.0</td>\n",
       "    </tr>\n",
       "    <tr>\n",
       "      <th>...</th>\n",
       "      <td>...</td>\n",
       "      <td>...</td>\n",
       "      <td>...</td>\n",
       "      <td>...</td>\n",
       "      <td>...</td>\n",
       "      <td>...</td>\n",
       "      <td>...</td>\n",
       "      <td>...</td>\n",
       "      <td>...</td>\n",
       "      <td>...</td>\n",
       "      <td>...</td>\n",
       "      <td>...</td>\n",
       "      <td>...</td>\n",
       "      <td>...</td>\n",
       "      <td>...</td>\n",
       "      <td>...</td>\n",
       "      <td>...</td>\n",
       "      <td>...</td>\n",
       "      <td>...</td>\n",
       "      <td>...</td>\n",
       "      <td>...</td>\n",
       "    </tr>\n",
       "    <tr>\n",
       "      <th>3736</th>\n",
       "      <td>Jamaica</td>\n",
       "      <td>JAMAICA PUBLIC SERVICE COMPANY LIMITED</td>\n",
       "      <td>JPS</td>\n",
       "      <td>211001</td>\n",
       "      <td>2003</td>\n",
       "      <td>Elec - Distribution</td>\n",
       "      <td>516681.0</td>\n",
       "      <td>462107.0</td>\n",
       "      <td>2.998345e+06</td>\n",
       "      <td>12000.00</td>\n",
       "      <td>...</td>\n",
       "      <td>0.00</td>\n",
       "      <td>0.00</td>\n",
       "      <td>0.000</td>\n",
       "      <td>8668.0</td>\n",
       "      <td>7082.0</td>\n",
       "      <td>1.0</td>\n",
       "      <td>362.436863</td>\n",
       "      <td>2351.643137</td>\n",
       "      <td>0</td>\n",
       "      <td>2709438.0</td>\n",
       "    </tr>\n",
       "    <tr>\n",
       "      <th>3737</th>\n",
       "      <td>Jamaica</td>\n",
       "      <td>JAMAICA PUBLIC SERVICE COMPANY LIMITED</td>\n",
       "      <td>JPS</td>\n",
       "      <td>211001</td>\n",
       "      <td>2004</td>\n",
       "      <td>Elec - Distribution</td>\n",
       "      <td>536434.0</td>\n",
       "      <td>480665.0</td>\n",
       "      <td>2.975509e+06</td>\n",
       "      <td>12000.00</td>\n",
       "      <td>...</td>\n",
       "      <td>0.00</td>\n",
       "      <td>0.00</td>\n",
       "      <td>0.000</td>\n",
       "      <td>8076.0</td>\n",
       "      <td>6350.0</td>\n",
       "      <td>1.0</td>\n",
       "      <td>320.443333</td>\n",
       "      <td>1983.672667</td>\n",
       "      <td>0</td>\n",
       "      <td>2725017.0</td>\n",
       "    </tr>\n",
       "    <tr>\n",
       "      <th>3738</th>\n",
       "      <td>Jamaica</td>\n",
       "      <td>JAMAICA PUBLIC SERVICE COMPANY LIMITED</td>\n",
       "      <td>JPS</td>\n",
       "      <td>211001</td>\n",
       "      <td>2005</td>\n",
       "      <td>Elec - Distribution</td>\n",
       "      <td>548446.0</td>\n",
       "      <td>491452.0</td>\n",
       "      <td>3.055154e+06</td>\n",
       "      <td>12000.00</td>\n",
       "      <td>...</td>\n",
       "      <td>0.00</td>\n",
       "      <td>0.00</td>\n",
       "      <td>0.000</td>\n",
       "      <td>8538.0</td>\n",
       "      <td>6915.0</td>\n",
       "      <td>1.0</td>\n",
       "      <td>307.157500</td>\n",
       "      <td>1909.471250</td>\n",
       "      <td>0</td>\n",
       "      <td>2740000.0</td>\n",
       "    </tr>\n",
       "    <tr>\n",
       "      <th>3739</th>\n",
       "      <td>Jamaica</td>\n",
       "      <td>JAMAICA PUBLIC SERVICE COMPANY LIMITED</td>\n",
       "      <td>JPS</td>\n",
       "      <td>211001</td>\n",
       "      <td>2006</td>\n",
       "      <td>Elec - Distribution</td>\n",
       "      <td>571045.0</td>\n",
       "      <td>511039.0</td>\n",
       "      <td>3.120669e+06</td>\n",
       "      <td>12000.00</td>\n",
       "      <td>...</td>\n",
       "      <td>0.00</td>\n",
       "      <td>0.00</td>\n",
       "      <td>0.000</td>\n",
       "      <td>9010.0</td>\n",
       "      <td>7380.0</td>\n",
       "      <td>1.0</td>\n",
       "      <td>300.611176</td>\n",
       "      <td>1835.687647</td>\n",
       "      <td>0</td>\n",
       "      <td>2754414.0</td>\n",
       "    </tr>\n",
       "    <tr>\n",
       "      <th>3740</th>\n",
       "      <td>Jamaica</td>\n",
       "      <td>JAMAICA PUBLIC SERVICE COMPANY LIMITED</td>\n",
       "      <td>JPS</td>\n",
       "      <td>211001</td>\n",
       "      <td>2007</td>\n",
       "      <td>Elec - Distribution</td>\n",
       "      <td>0.0</td>\n",
       "      <td>0.0</td>\n",
       "      <td>2.844549e+06</td>\n",
       "      <td>12000.00</td>\n",
       "      <td>...</td>\n",
       "      <td>0.00</td>\n",
       "      <td>0.00</td>\n",
       "      <td>0.000</td>\n",
       "      <td>9307.0</td>\n",
       "      <td>7871.0</td>\n",
       "      <td>0.5</td>\n",
       "      <td>322.662218</td>\n",
       "      <td>2020.118675</td>\n",
       "      <td>0</td>\n",
       "      <td>2768229.0</td>\n",
       "    </tr>\n",
       "  </tbody>\n",
       "</table>\n",
       "<p>3741 rows × 26 columns</p>\n",
       "</div>"
      ],
      "text/plain": [
       "       country                                     utility_name utility_code  \\\n",
       "0     Paraguay  ADMINISTRACION NACIONAL DE ELECTRICIDAD (ANDE).         ANDE   \n",
       "1     Paraguay           COMPAÃÂIA LUZ Y FUERZA S.A. (CLYFSA)       CLYFSA   \n",
       "2     Paraguay  ADMINISTRACION NACIONAL DE ELECTRICIDAD (ANDE).         ANDE   \n",
       "3     Paraguay           COMPAÃÂIA LUZ Y FUERZA S.A. (CLYFSA)       CLYFSA   \n",
       "4     Paraguay  ADMINISTRACION NACIONAL DE ELECTRICIDAD (ANDE).         ANDE   \n",
       "...        ...                                              ...          ...   \n",
       "3736   Jamaica           JAMAICA PUBLIC SERVICE COMPANY LIMITED          JPS   \n",
       "3737   Jamaica           JAMAICA PUBLIC SERVICE COMPANY LIMITED          JPS   \n",
       "3738   Jamaica           JAMAICA PUBLIC SERVICE COMPANY LIMITED          JPS   \n",
       "3739   Jamaica           JAMAICA PUBLIC SERVICE COMPANY LIMITED          JPS   \n",
       "3740   Jamaica           JAMAICA PUBLIC SERVICE COMPANY LIMITED          JPS   \n",
       "\n",
       "     utility_ID  year      connection_type  total_number_connections  \\\n",
       "0        209001  1995  Elec - Distribution                  710188.0   \n",
       "1        209002  1995  Elec - Distribution                       0.0   \n",
       "2        209001  1996  Elec - Distribution                  785280.0   \n",
       "3        209002  1996  Elec - Distribution                       0.0   \n",
       "4        209001  1997  Elec - Distribution                  850947.0   \n",
       "...         ...   ...                  ...                       ...   \n",
       "3736     211001  2003  Elec - Distribution                  516681.0   \n",
       "3737     211001  2004  Elec - Distribution                  536434.0   \n",
       "3738     211001  2005  Elec - Distribution                  548446.0   \n",
       "3739     211001  2006  Elec - Distribution                  571045.0   \n",
       "3740     211001  2007  Elec - Distribution                       0.0   \n",
       "\n",
       "      residential_connections  electricity_sold_year_MWh  \\\n",
       "0                    579691.0               3.605895e+06   \n",
       "1                         0.0               3.712800e+04   \n",
       "2                    647040.0               3.802143e+06   \n",
       "3                         0.0               3.712800e+04   \n",
       "4                    707179.0               3.973478e+06   \n",
       "...                       ...                        ...   \n",
       "3736                 462107.0               2.998345e+06   \n",
       "3737                 480665.0               2.975509e+06   \n",
       "3738                 491452.0               3.055154e+06   \n",
       "3739                 511039.0               3.120669e+06   \n",
       "3740                      0.0               2.844549e+06   \n",
       "\n",
       "      distribution_length_km  ...  avg_duration_interruptions_suscriber  \\\n",
       "0                   33415.54  ...                                  8.34   \n",
       "1                     170.00  ...                                  0.00   \n",
       "2                   39952.04  ...                                 18.85   \n",
       "3                     170.00  ...                                  0.00   \n",
       "4                   45892.74  ...                                 12.65   \n",
       "...                      ...  ...                                   ...   \n",
       "3736                12000.00  ...                                  0.00   \n",
       "3737                12000.00  ...                                  0.00   \n",
       "3738                12000.00  ...                                  0.00   \n",
       "3739                12000.00  ...                                  0.00   \n",
       "3740                12000.00  ...                                  0.00   \n",
       "\n",
       "      avg_frequency_interruptions_subscriber  \\\n",
       "0                                      17.78   \n",
       "1                                       0.00   \n",
       "2                                      17.29   \n",
       "3                                       0.00   \n",
       "4                                      18.15   \n",
       "...                                      ...   \n",
       "3736                                    0.00   \n",
       "3737                                    0.00   \n",
       "3738                                    0.00   \n",
       "3739                                    0.00   \n",
       "3740                                    0.00   \n",
       "\n",
       "      residential_coverage (#/100 households)  avg_residential_tarif_local  \\\n",
       "0                                       0.694                      95460.0   \n",
       "1                                       0.000                     358250.0   \n",
       "2                                       0.747                     117960.0   \n",
       "3                                       0.000                     358250.0   \n",
       "4                                       0.790                     135140.0   \n",
       "...                                       ...                          ...   \n",
       "3736                                    0.000                       8668.0   \n",
       "3737                                    0.000                       8076.0   \n",
       "3738                                    0.000                       8538.0   \n",
       "3739                                    0.000                       9010.0   \n",
       "3740                                    0.000                       9307.0   \n",
       "\n",
       "      avg_industrial_tarif_local  privatization_year  \\\n",
       "0                        68920.0                 0.0   \n",
       "1                       221938.0                 1.0   \n",
       "2                        85230.0                 0.0   \n",
       "3                       221938.0                 1.0   \n",
       "4                        95020.0                 0.0   \n",
       "...                          ...                 ...   \n",
       "3736                      7082.0                 1.0   \n",
       "3737                      6350.0                 1.0   \n",
       "3738                      6915.0                 1.0   \n",
       "3739                      7380.0                 1.0   \n",
       "3740                      7871.0                 0.5   \n",
       "\n",
       "      residential_connections_employee  energy_sold_employee  \\\n",
       "0                           222.103831           1381.568780   \n",
       "1                           216.883974            939.291346   \n",
       "2                           241.252796           1417.652236   \n",
       "3                           216.883974            939.291346   \n",
       "4                           256.782498           1442.802468   \n",
       "...                                ...                   ...   \n",
       "3736                        362.436863           2351.643137   \n",
       "3737                        320.443333           1983.672667   \n",
       "3738                        307.157500           1909.471250   \n",
       "3739                        300.611176           1835.687647   \n",
       "3740                        322.662218           2020.118675   \n",
       "\n",
       "      coverage (above 80%)  population  \n",
       "0                        0   4776838.0  \n",
       "1                        0   4776838.0  \n",
       "2                        0   4887638.0  \n",
       "3                        0   4887638.0  \n",
       "4                        0   4998096.0  \n",
       "...                    ...         ...  \n",
       "3736                     0   2709438.0  \n",
       "3737                     0   2725017.0  \n",
       "3738                     0   2740000.0  \n",
       "3739                     0   2754414.0  \n",
       "3740                     0   2768229.0  \n",
       "\n",
       "[3741 rows x 26 columns]"
      ]
     },
     "execution_count": 22,
     "metadata": {},
     "output_type": "execute_result"
    }
   ],
   "source": [
    "df_main"
   ]
  },
  {
   "cell_type": "markdown",
   "id": "e55f7568",
   "metadata": {},
   "source": [
    "## Modeling"
   ]
  },
  {
   "cell_type": "code",
   "execution_count": 23,
   "id": "7a34beda",
   "metadata": {},
   "outputs": [],
   "source": [
    "from sklearn.model_selection import train_test_split\n",
    "\n",
    "X = df_main.loc[:, df_main.columns != 'coverage (above 80%)']\n",
    "y = df_main['coverage (above 80%)']\n",
    "X = pd.get_dummies(X)"
   ]
  },
  {
   "cell_type": "code",
   "execution_count": 24,
   "id": "638984c0",
   "metadata": {},
   "outputs": [],
   "source": [
    "X_train,X_test,y_train,y_test = train_test_split(X, y, test_size = 0.3, random_state = 25)"
   ]
  },
  {
   "cell_type": "code",
   "execution_count": 25,
   "id": "7dccb885",
   "metadata": {},
   "outputs": [],
   "source": [
    "#ML models\n",
    "from sklearn.model_selection import cross_val_score\n",
    "from sklearn.linear_model import LogisticRegression\n",
    "from sklearn.neighbors import KNeighborsClassifier\n",
    "from sklearn.tree import DecisionTreeClassifier\n",
    "from sklearn.model_selection import learning_curve, GridSearchCV\n",
    "from sklearn.ensemble import RandomForestClassifier, GradientBoostingClassifier\n",
    "from sklearn import tree,metrics\n",
    "from sklearn.metrics import accuracy_score, f1_score, recall_score, precision_score, roc_auc_score\n",
    "from sklearn.metrics import plot_confusion_matrix, classification_report, confusion_matrix, roc_curve, auc"
   ]
  },
  {
   "cell_type": "markdown",
   "id": "698d7a20",
   "metadata": {},
   "source": [
    "### Logistic Regression"
   ]
  },
  {
   "cell_type": "code",
   "execution_count": 26,
   "id": "82001562",
   "metadata": {},
   "outputs": [
    {
     "name": "stdout",
     "output_type": "stream",
     "text": [
      "Best parameters:  {'C': 0.001, 'penalty': 'l2'}\n"
     ]
    }
   ],
   "source": [
    "param_grid ={ 'C' : [0.001,0.01,0.1,1,10,100, 1000], 'penalty': ['l1','l2']}\n",
    "clf = GridSearchCV(LogisticRegression(), param_grid, cv=10)\n",
    "clf.fit(X_train, y_train)\n",
    "print('Best parameters: ', clf.best_params_)"
   ]
  },
  {
   "cell_type": "code",
   "execution_count": 69,
   "id": "bdcca542",
   "metadata": {},
   "outputs": [
    {
     "name": "stdout",
     "output_type": "stream",
     "text": [
      "Accuracy:  0.6001780943900267\n"
     ]
    }
   ],
   "source": [
    "lr = LogisticRegression(C = 0.001, penalty='l2')\n",
    "lr.fit(X_train, y_train)\n",
    "y_pred_lr = lr.predict(X_test)\n",
    "accuracy_lr = accuracy_score(y_test,y_pred_lr)\n",
    "print('Accuracy: ', accuracy_lr)"
   ]
  },
  {
   "cell_type": "code",
   "execution_count": 64,
   "id": "e001287c",
   "metadata": {},
   "outputs": [
    {
     "data": {
      "text/plain": [
       "<sklearn.metrics._plot.confusion_matrix.ConfusionMatrixDisplay at 0x1d22dbe9190>"
      ]
     },
     "execution_count": 64,
     "metadata": {},
     "output_type": "execute_result"
    },
    {
     "data": {
      "image/png": "[encoded data removed]",
      "text/plain": [
       "<Figure size 432x288 with 2 Axes>"
      ]
     },
     "metadata": {
      "needs_background": "light"
     },
     "output_type": "display_data"
    }
   ],
   "source": [
    "plot_confusion_matrix(LogReg, X_test, y_test)"
   ]
  },
  {
   "cell_type": "code",
   "execution_count": 76,
   "id": "ac659709",
   "metadata": {},
   "outputs": [
    {
     "name": "stdout",
     "output_type": "stream",
     "text": [
      "Test Data\n",
      "Scores :  [0.51204565 0.60101437 0.51257396 0.45476062 0.50048413]\n",
      "Mean:  0.5161757473295935\n",
      "Stantard Deviation:  0.047425028622114146\n",
      " \n",
      "Training Data\n",
      "Scores :  [0.54129323 0.50670677 0.51466667 0.49215781 0.53828119]\n",
      "Mean:  0.5186211334788584\n",
      "Stantard Deviation:  0.018753341145251227\n"
     ]
    }
   ],
   "source": [
    "cv_score_test_lr = cross_val_score(lr, X_test, y_test, cv=5, scoring = 'roc_auc')\n",
    "test_mean_lr = cv_score_test_lr.mean()\n",
    "test_std_lr = cv_score_test_lr.std()\n",
    "cv_score_train_lr = cross_val_score(lr, X_train, y_train, cv=5, scoring = 'roc_auc')\n",
    "train_mean_lr = cv_score_train_lr.mean()\n",
    "train_std_lr = cv_score_train_lr.std()\n",
    "print('Test Data')\n",
    "print('Scores : ', cv_score_test_lr)\n",
    "print('Mean: ', test_mean_lr)\n",
    "print('Stantard Deviation: ', test_std_lr)\n",
    "print(' ')\n",
    "print('Training Data')\n",
    "print('Scores : ', cv_score_train_lr)\n",
    "print('Mean: ', train_mean_lr)\n",
    "print('Stantard Deviation: ', train_std_lr)"
   ]
  },
  {
   "cell_type": "markdown",
   "id": "65cd5e4c",
   "metadata": {},
   "source": [
    "### Random Forest"
   ]
  },
  {
   "cell_type": "code",
   "execution_count": 72,
   "id": "aca414eb",
   "metadata": {},
   "outputs": [
    {
     "name": "stdout",
     "output_type": "stream",
     "text": [
      "Accuracy:  0.993766696349065\n"
     ]
    }
   ],
   "source": [
    "rf = RandomForestClassifier(bootstrap = True, n_estimators= 120, criterion = 'gini')\n",
    "rf.fit(X_train, y_train)\n",
    "y_pred_rf = rf.predict(X_test)\n",
    "accuracy_rf = accuracy_score(y_test,y_pred_rf)\n",
    "print('Accuracy: ', accuracy_rf)"
   ]
  },
  {
   "cell_type": "code",
   "execution_count": 49,
   "id": "768b1f51",
   "metadata": {},
   "outputs": [
    {
     "data": {
      "text/plain": [
       "<sklearn.metrics._plot.confusion_matrix.ConfusionMatrixDisplay at 0x1d22e6eeeb0>"
      ]
     },
     "execution_count": 49,
     "metadata": {},
     "output_type": "execute_result"
    },
    {
     "data": {
      "image/png": "[encoded data removed]",
      "text/plain": [
       "<Figure size 432x288 with 2 Axes>"
      ]
     },
     "metadata": {
      "needs_background": "light"
     },
     "output_type": "display_data"
    }
   ],
   "source": [
    "plot_confusion_matrix(rf, X_test, y_test)"
   ]
  },
  {
   "cell_type": "code",
   "execution_count": 74,
   "id": "7afd519f",
   "metadata": {},
   "outputs": [
    {
     "name": "stdout",
     "output_type": "stream",
     "text": [
      "Test Data\n",
      "Scores :  [0.99947168 0.98816568 0.99968301 0.99989242 1.        ]\n",
      "Mean:  0.9974425574425574\n",
      "Stantard Deviation:  0.00464197660051378\n",
      " \n",
      "Training Data\n",
      "Scores :  [0.99993985 0.99973935 0.999599   1.         0.99919153]\n",
      "Mean:  0.9996939445387664\n",
      "Stantard Deviation:  0.0002890117239207541\n"
     ]
    }
   ],
   "source": [
    "cv_score_test_rf = cross_val_score(rf, X_test, y_test, cv=5, scoring = 'roc_auc')\n",
    "test_mean_rf = cv_score_test_rf.mean()\n",
    "test_std_rf = cv_score_test_rf.std()\n",
    "cv_score_train_rf = cross_val_score(rf, X_train, y_train, cv=5, scoring = 'roc_auc')\n",
    "train_mean_rf = cv_score_train_rf.mean()\n",
    "train_std_rf = cv_score_train_rf.std()\n",
    "print('Test Data')\n",
    "print('Scores : ', cv_score_test_rf)\n",
    "print('Mean: ', test_mean_rf)\n",
    "print('Stantard Deviation: ', test_std_rf)\n",
    "print(' ')\n",
    "print('Training Data')\n",
    "print('Scores : ', cv_score_train_rf)\n",
    "print('Mean: ', train_mean_rf)\n",
    "print('Stantard Deviation: ', train_std_rf)"
   ]
  },
  {
   "cell_type": "markdown",
   "id": "4229e677",
   "metadata": {},
   "source": [
    "### K-Nearest Neighbor (KNN)"
   ]
  },
  {
   "cell_type": "code",
   "execution_count": 73,
   "id": "124924b7",
   "metadata": {},
   "outputs": [
    {
     "name": "stdout",
     "output_type": "stream",
     "text": [
      "Accuracy:  0.8058771148708815\n"
     ]
    }
   ],
   "source": [
    "knn = KNeighborsClassifier(n_neighbors= 60, weights = 'distance')\n",
    "knn.fit(X_train, y_train)\n",
    "y_pred_knn = knn.predict(X_test)\n",
    "accuracy_knn = accuracy_score(y_test,y_pred_knn)\n",
    "print('Accuracy: ', accuracy_knn)"
   ]
  },
  {
   "cell_type": "code",
   "execution_count": 52,
   "id": "0131348a",
   "metadata": {},
   "outputs": [
    {
     "data": {
      "text/plain": [
       "<sklearn.metrics._plot.confusion_matrix.ConfusionMatrixDisplay at 0x1d22e8bba90>"
      ]
     },
     "execution_count": 52,
     "metadata": {},
     "output_type": "execute_result"
    },
    {
     "data": {
      "image/png": "[encoded data removed]",
      "text/plain": [
       "<Figure size 432x288 with 2 Axes>"
      ]
     },
     "metadata": {
      "needs_background": "light"
     },
     "output_type": "display_data"
    }
   ],
   "source": [
    "plot_confusion_matrix(knn, X_test, y_test)"
   ]
  },
  {
   "cell_type": "code",
   "execution_count": 75,
   "id": "3f92347f",
   "metadata": {},
   "outputs": [
    {
     "name": "stdout",
     "output_type": "stream",
     "text": [
      "Test Data\n",
      "Scores :  [0.84911243 0.8045224  0.80246196 0.83033889 0.77762238]\n",
      "Mean:  0.8128116114654576\n",
      "Stantard Deviation:  0.02465385630450943\n",
      " \n",
      "Training Data\n",
      "Scores :  [0.86913283 0.85545865 0.87374436 0.8806492  0.86108416]\n",
      "Mean:  0.8680138410542486\n",
      "Stantard Deviation:  0.008937524775843034\n"
     ]
    }
   ],
   "source": [
    "cv_score_test_knn = cross_val_score(knn, X_test, y_test, cv=5, scoring = 'roc_auc')\n",
    "test_mean_knn = cv_score_test_knn.mean()\n",
    "test_std_knn = cv_score_test_knn.std()\n",
    "cv_score_train_knn = cross_val_score(knn, X_train, y_train, cv=5, scoring = 'roc_auc')\n",
    "train_mean_knn = cv_score_train_knn.mean()\n",
    "train_std_knn = cv_score_train_knn.std()\n",
    "print('Test Data')\n",
    "print('Scores : ', cv_score_test_knn)\n",
    "print('Mean: ', test_mean_knn)\n",
    "print('Stantard Deviation: ', test_std_knn)\n",
    "print(' ')\n",
    "print('Training Data')\n",
    "print('Scores : ', cv_score_train_knn)\n",
    "print('Mean: ', train_mean_knn)\n",
    "print('Stantard Deviation: ', train_std_knn)"
   ]
  },
  {
   "cell_type": "markdown",
   "id": "138e6f11",
   "metadata": {},
   "source": [
    "### Model Comparison"
   ]
  },
  {
   "cell_type": "code",
   "execution_count": 77,
   "id": "d691c2be",
   "metadata": {},
   "outputs": [
    {
     "name": "stdout",
     "output_type": "stream",
     "text": [
      "             Algorithm  Model Accuracy\n",
      "0  Logistic Regression        0.600178\n",
      "1        Random Forest        0.993767\n",
      "2  K-Nearest Neighbors        0.805877\n",
      " \n",
      "             Algorithm  ROC-AUC Train Score  ROC-AUC Test Score\n",
      "0  Logistic Regression             0.518621            0.516176\n",
      "1        Random Forest             0.999694            0.997443\n",
      "2  K-Nearest Neighbors             0.868014            0.812812\n"
     ]
    }
   ],
   "source": [
    "models = ['Logistic Regression', 'Random Forest', 'K-Nearest Neighbors']\n",
    "test_score = [test_mean_lr, test_mean_rf, test_mean_knn]\n",
    "train_score = [train_mean_lr, train_mean_rf, train_mean_knn]\n",
    "accuracy = [accuracy_lr, accuracy_rf, accuracy_knn]\n",
    "\n",
    "model_accuracy = pd.DataFrame(list(zip(models, accuracy)), columns = ['Algorithm', 'Model Accuracy'])\n",
    "model_roc = pd.DataFrame(list(zip(models, train_score, test_score)), columns = ['Algorithm', 'ROC-AUC Train Score', 'ROC-AUC Test Score'])\n",
    "\n",
    "print(model_accuracy)\n",
    "print(' ')\n",
    "print(model_roc)"
   ]
  },
  {
   "cell_type": "code",
   "execution_count": 87,
   "id": "a3847947",
   "metadata": {},
   "outputs": [
    {
     "data": {
      "image/png": "[encoded data removed]",
      "text/plain": [
       "<Figure size 720x360 with 1 Axes>"
      ]
     },
     "metadata": {
      "needs_background": "light"
     },
     "output_type": "display_data"
    }
   ],
   "source": [
    "# Accuracy scores plot\n",
    "\n",
    "plt.figure(figsize = (10,5))\n",
    "plt.xlabel('Models', fontsize = 15)\n",
    "plt.ylabel('Accuracy scores', fontsize = 15)\n",
    "plt.title('Algorithm Accuracy Comparison', fontsize=20)\n",
    "plt.bar(models, accuracy, tick_label = models, width=0.3, color = 'green')\n",
    "plt.show()"
   ]
  },
  {
   "cell_type": "code",
   "execution_count": 91,
   "id": "36e0df72",
   "metadata": {},
   "outputs": [
    {
     "data": {
      "image/png": "[encoded data removed]",
      "text/plain": [
       "<Figure size 720x360 with 1 Axes>"
      ]
     },
     "metadata": {
      "needs_background": "light"
     },
     "output_type": "display_data"
    }
   ],
   "source": [
    "# ROC-AUC test/train score plot\n",
    "\n",
    "index = [1,2,3]\n",
    "index_acc = [1.2,2.2,3.2]\n",
    "plt.figure(figsize = (10,5))\n",
    "plt.xlabel('Models', fontsize = 15)\n",
    "plt.ylabel('ROC-AUC scores', fontsize = 15)\n",
    "plt.title('Algorithm ROC-AUC Comparison', fontsize=20)\n",
    "_= plt.bar(index, test_score, label = 'Test score', width=0.2, color = 'red')\n",
    "_= plt.bar(index_acc, train_score, label = 'Training score', width=0.2, color = 'orange')\n",
    "plt.xticks(index, models)\n",
    "plt.legend()\n",
    "plt.show()"
   ]
  },
  {
   "cell_type": "markdown",
   "id": "ff1bf014",
   "metadata": {},
   "source": [
    "## Conclusion"
   ]
  },
  {
   "cell_type": "markdown",
   "id": "b9b75edc",
   "metadata": {},
   "source": [
    "From the comparison of the models, the Random Forest model has the highest scores overall followed by the K-Nearest Neighbor model. The Random Forest model has really high scores which would indicate this to be the best model overall"
   ]
  }
 ],
 "metadata": {
  "kernelspec": {
   "display_name": "Python 3",
   "language": "python",
   "name": "python3"
  },
  "language_info": {
   "codemirror_mode": {
    "name": "ipython",
    "version": 3
   },
   "file_extension": ".py",
   "mimetype": "text/x-python",
   "name": "python",
   "nbconvert_exporter": "python",
   "pygments_lexer": "ipython3",
   "version": "3.8.8"
  }
 },
 "nbformat": 4,
 "nbformat_minor": 5
}
